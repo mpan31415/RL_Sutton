{
 "cells": [
  {
   "cell_type": "code",
   "execution_count": 1,
   "metadata": {},
   "outputs": [],
   "source": [
    "from agents import QAgent"
   ]
  },
  {
   "cell_type": "code",
   "execution_count": 3,
   "metadata": {},
   "outputs": [
    {
     "name": "stdout",
     "output_type": "stream",
     "text": [
      "||||||||||||||||||||||||||||||||||||||||||||||||||||||||||||||||||||||||||||||||||||||||||||||||||||\n",
      "  |   0  |   1  |   2  |   3  |   4  |   5  |   6  |   7  | \n",
      "------------------------------------\n",
      "0 |  0.1 |  0.2 |  0.3 |  0.4 |  0.5 |  0.6 |  0.7 |  0.8 | \n",
      "------------------------------------\n",
      "1 |    X |    X |  0.0 |  0.0 |  0.1 |  0.3 |  0.3 |  0.9 | \n",
      "------------------------------------\n",
      "2 |  0.0 |  0.0 |  0.0 |  0.0 |  0.0 |  1.0 |  1.0 |  1.0 | \n",
      "------------------------------------\n",
      "3 |  0.0 |  0.0 |  0.0 |  0.0 |  0.0 |  1.0 |    X |    X | \n",
      "------------------------------------\n",
      "4 |  0.0 |  0.0 |  0.0 |  0.0 |  0.0 |  1.0 |  1.0 |  0.0 | \n",
      "------------------------------------\n"
     ]
    }
   ],
   "source": [
    "alpha = 0.1\n",
    "gamma = 1\n",
    "\n",
    "epsilon = 0.1\n",
    "epsilon_scaling = 0.95\n",
    "\n",
    "num_episodes = 100\n",
    "\n",
    "q_agent = QAgent(alpha, gamma, epsilon, epsilon_scaling, num_episodes)\n",
    "q_agent.run()"
   ]
  }
 ],
 "metadata": {
  "kernelspec": {
   "display_name": "Python 3",
   "language": "python",
   "name": "python3"
  },
  "language_info": {
   "codemirror_mode": {
    "name": "ipython",
    "version": 3
   },
   "file_extension": ".py",
   "mimetype": "text/x-python",
   "name": "python",
   "nbconvert_exporter": "python",
   "pygments_lexer": "ipython3",
   "version": "3.11.4"
  }
 },
 "nbformat": 4,
 "nbformat_minor": 2
}
