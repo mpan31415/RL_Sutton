{
 "cells": [
  {
   "cell_type": "code",
   "execution_count": 1,
   "metadata": {},
   "outputs": [],
   "source": [
    "from agents import DynaQ\n",
    "import numpy as np"
   ]
  },
  {
   "cell_type": "code",
   "execution_count": 13,
   "metadata": {},
   "outputs": [],
   "source": [
    "load_existing_action_values = True\n",
    "\n",
    "action_values_file = \"dynaq_1000_10.npy\""
   ]
  },
  {
   "cell_type": "code",
   "execution_count": 14,
   "metadata": {},
   "outputs": [
    {
     "name": "stdout",
     "output_type": "stream",
     "text": [
      "Successfully loaded existing action values!\n",
      "  |   0  |   1  |   2  |   3  |   4  |   5  |   6  |   7  | \n",
      "------------------------------------\n",
      "0 |  1.0 |  1.0 |  1.0 |  1.0 |  1.0 |  1.0 |  1.0 |  1.0 | \n",
      "------------------------------------\n",
      "1 |    X |    X |    X |    X |    X |    X |  1.0 |  1.0 | \n",
      "------------------------------------\n",
      "2 |  1.0 |  1.0 |  1.0 |  1.0 |  1.0 |  1.0 |  1.0 |  1.0 | \n",
      "------------------------------------\n",
      "3 |  1.0 |  1.0 |    X |    X |    X |    X |    X |    X | \n",
      "------------------------------------\n",
      "4 |  1.0 |  1.0 |  1.0 |  1.0 |  1.0 |  1.0 |  1.0 |  0.0 | \n",
      "------------------------------------\n",
      "||||||||||||||"
     ]
    },
    {
     "ename": "KeyboardInterrupt",
     "evalue": "",
     "output_type": "error",
     "traceback": [
      "\u001b[1;31m---------------------------------------------------------------------------\u001b[0m",
      "\u001b[1;31mKeyboardInterrupt\u001b[0m                         Traceback (most recent call last)",
      "Cell \u001b[1;32mIn[14], line 21\u001b[0m\n\u001b[0;32m     18\u001b[0m     dynaq_agent\u001b[38;5;241m.\u001b[39mprint_action_values()\n\u001b[0;32m     20\u001b[0m \u001b[38;5;66;03m# release the beast!\u001b[39;00m\n\u001b[1;32m---> 21\u001b[0m \u001b[43mdynaq_agent\u001b[49m\u001b[38;5;241;43m.\u001b[39;49m\u001b[43mlearn\u001b[49m\u001b[43m(\u001b[49m\u001b[43m)\u001b[49m\n",
      "File \u001b[1;32mc:\\Users\\micha\\OneDrive\\My_GitHub_Repos\\RL_Sutton\\chp8-planning-learning-tabular\\agents.py:157\u001b[0m, in \u001b[0;36mDynaQ.learn\u001b[1;34m(self)\u001b[0m\n\u001b[0;32m    154\u001b[0m \u001b[38;5;28;01mdef\u001b[39;00m \u001b[38;5;21mlearn\u001b[39m(\u001b[38;5;28mself\u001b[39m):\n\u001b[0;32m    155\u001b[0m     \u001b[38;5;66;03m# self.curr_pos = (0, 0)\u001b[39;00m\n\u001b[0;32m    156\u001b[0m     \u001b[38;5;28;01mfor\u001b[39;00m episode_num \u001b[38;5;129;01min\u001b[39;00m \u001b[38;5;28mrange\u001b[39m(\u001b[38;5;241m1\u001b[39m, \u001b[38;5;28mself\u001b[39m\u001b[38;5;241m.\u001b[39mnum_episodes\u001b[38;5;241m+\u001b[39m\u001b[38;5;241m1\u001b[39m):\n\u001b[1;32m--> 157\u001b[0m         \u001b[38;5;28;43mself\u001b[39;49m\u001b[38;5;241;43m.\u001b[39;49m\u001b[43mepisode\u001b[49m\u001b[43m(\u001b[49m\u001b[43mepisode_num\u001b[49m\u001b[43m)\u001b[49m\n\u001b[0;32m    158\u001b[0m     \u001b[38;5;28mprint\u001b[39m()\n\u001b[0;32m    159\u001b[0m     \u001b[38;5;28mself\u001b[39m\u001b[38;5;241m.\u001b[39mprint_action_values()\n",
      "File \u001b[1;32mc:\\Users\\micha\\OneDrive\\My_GitHub_Repos\\RL_Sutton\\chp8-planning-learning-tabular\\agents.py:191\u001b[0m, in \u001b[0;36mDynaQ.episode\u001b[1;34m(self, outer_iter_num)\u001b[0m\n\u001b[0;32m    187\u001b[0m curr_pos \u001b[38;5;241m=\u001b[39m (\u001b[38;5;241m0\u001b[39m, \u001b[38;5;241m0\u001b[39m)\n\u001b[0;32m    188\u001b[0m \u001b[38;5;28;01mwhile\u001b[39;00m curr_pos \u001b[38;5;241m!=\u001b[39m \u001b[38;5;28mself\u001b[39m\u001b[38;5;241m.\u001b[39mmaze\u001b[38;5;241m.\u001b[39mgoal_pos:\n\u001b[0;32m    189\u001b[0m     \n\u001b[0;32m    190\u001b[0m     \u001b[38;5;66;03m# select action according to e-greedy policy\u001b[39;00m\n\u001b[1;32m--> 191\u001b[0m     action_idx, action \u001b[38;5;241m=\u001b[39m \u001b[38;5;28;43mself\u001b[39;49m\u001b[38;5;241;43m.\u001b[39;49m\u001b[43mget_action\u001b[49m\u001b[43m(\u001b[49m\u001b[43mcurr_pos\u001b[49m\u001b[43m)\u001b[49m\n\u001b[0;32m    192\u001b[0m     \u001b[38;5;66;03m# get reward and next state from environment\u001b[39;00m\n\u001b[0;32m    193\u001b[0m     reward, next_pos \u001b[38;5;241m=\u001b[39m \u001b[38;5;28mself\u001b[39m\u001b[38;5;241m.\u001b[39mmaze\u001b[38;5;241m.\u001b[39mstep(curr_pos, action)\n",
      "File \u001b[1;32mc:\\Users\\micha\\OneDrive\\My_GitHub_Repos\\RL_Sutton\\chp8-planning-learning-tabular\\agents.py:236\u001b[0m, in \u001b[0;36mDynaQ.get_action\u001b[1;34m(self, s)\u001b[0m\n\u001b[0;32m    235\u001b[0m \u001b[38;5;28;01mdef\u001b[39;00m \u001b[38;5;21mget_action\u001b[39m(\u001b[38;5;28mself\u001b[39m, s):\n\u001b[1;32m--> 236\u001b[0m     \u001b[38;5;28;01mif\u001b[39;00m \u001b[43mbernoulli\u001b[49m\u001b[38;5;241;43m.\u001b[39;49m\u001b[43mrvs\u001b[49m\u001b[43m(\u001b[49m\u001b[38;5;28;43mself\u001b[39;49m\u001b[38;5;241;43m.\u001b[39;49m\u001b[43mcurr_epsilon\u001b[49m\u001b[43m)\u001b[49m\u001b[38;5;241m==\u001b[39m\u001b[38;5;241m1\u001b[39m:\n\u001b[0;32m    237\u001b[0m         \u001b[38;5;66;03m# random action\u001b[39;00m\n\u001b[0;32m    238\u001b[0m         action_idx \u001b[38;5;241m=\u001b[39m choice([\u001b[38;5;241m0\u001b[39m,\u001b[38;5;241m1\u001b[39m,\u001b[38;5;241m2\u001b[39m,\u001b[38;5;241m3\u001b[39m])\n\u001b[0;32m    239\u001b[0m         \u001b[38;5;28;01mreturn\u001b[39;00m action_idx, \u001b[38;5;28mself\u001b[39m\u001b[38;5;241m.\u001b[39mactions[action_idx]\n",
      "File \u001b[1;32mc:\\Users\\micha\\AppData\\Local\\Programs\\Python\\Python311\\Lib\\site-packages\\scipy\\stats\\_distn_infrastructure.py:3343\u001b[0m, in \u001b[0;36mrv_discrete.rvs\u001b[1;34m(self, *args, **kwargs)\u001b[0m\n\u001b[0;32m   3314\u001b[0m \u001b[38;5;250m\u001b[39m\u001b[38;5;124;03m\"\"\"Random variates of given type.\u001b[39;00m\n\u001b[0;32m   3315\u001b[0m \n\u001b[0;32m   3316\u001b[0m \u001b[38;5;124;03mParameters\u001b[39;00m\n\u001b[1;32m   (...)\u001b[0m\n\u001b[0;32m   3340\u001b[0m \n\u001b[0;32m   3341\u001b[0m \u001b[38;5;124;03m\"\"\"\u001b[39;00m\n\u001b[0;32m   3342\u001b[0m kwargs[\u001b[38;5;124m'\u001b[39m\u001b[38;5;124mdiscrete\u001b[39m\u001b[38;5;124m'\u001b[39m] \u001b[38;5;241m=\u001b[39m \u001b[38;5;28;01mTrue\u001b[39;00m\n\u001b[1;32m-> 3343\u001b[0m \u001b[38;5;28;01mreturn\u001b[39;00m \u001b[38;5;28;43msuper\u001b[39;49m\u001b[43m(\u001b[49m\u001b[43m)\u001b[49m\u001b[38;5;241;43m.\u001b[39;49m\u001b[43mrvs\u001b[49m\u001b[43m(\u001b[49m\u001b[38;5;241;43m*\u001b[39;49m\u001b[43margs\u001b[49m\u001b[43m,\u001b[49m\u001b[43m \u001b[49m\u001b[38;5;241;43m*\u001b[39;49m\u001b[38;5;241;43m*\u001b[39;49m\u001b[43mkwargs\u001b[49m\u001b[43m)\u001b[49m\n",
      "File \u001b[1;32mc:\\Users\\micha\\AppData\\Local\\Programs\\Python\\Python311\\Lib\\site-packages\\scipy\\stats\\_distn_infrastructure.py:1067\u001b[0m, in \u001b[0;36mrv_generic.rvs\u001b[1;34m(self, *args, **kwds)\u001b[0m\n\u001b[0;32m   1064\u001b[0m \u001b[38;5;28;01melse\u001b[39;00m:\n\u001b[0;32m   1065\u001b[0m     random_state \u001b[38;5;241m=\u001b[39m \u001b[38;5;28mself\u001b[39m\u001b[38;5;241m.\u001b[39m_random_state\n\u001b[1;32m-> 1067\u001b[0m vals \u001b[38;5;241m=\u001b[39m \u001b[38;5;28;43mself\u001b[39;49m\u001b[38;5;241;43m.\u001b[39;49m\u001b[43m_rvs\u001b[49m\u001b[43m(\u001b[49m\u001b[38;5;241;43m*\u001b[39;49m\u001b[43margs\u001b[49m\u001b[43m,\u001b[49m\u001b[43m \u001b[49m\u001b[43msize\u001b[49m\u001b[38;5;241;43m=\u001b[39;49m\u001b[43msize\u001b[49m\u001b[43m,\u001b[49m\u001b[43m \u001b[49m\u001b[43mrandom_state\u001b[49m\u001b[38;5;241;43m=\u001b[39;49m\u001b[43mrandom_state\u001b[49m\u001b[43m)\u001b[49m\n\u001b[0;32m   1069\u001b[0m vals \u001b[38;5;241m=\u001b[39m vals \u001b[38;5;241m*\u001b[39m scale \u001b[38;5;241m+\u001b[39m loc\n\u001b[0;32m   1071\u001b[0m \u001b[38;5;66;03m# do not forget to restore the _random_state\u001b[39;00m\n",
      "File \u001b[1;32mc:\\Users\\micha\\AppData\\Local\\Programs\\Python\\Python311\\Lib\\site-packages\\scipy\\stats\\_discrete_distns.py:140\u001b[0m, in \u001b[0;36mbernoulli_gen._rvs\u001b[1;34m(self, p, size, random_state)\u001b[0m\n\u001b[0;32m    139\u001b[0m \u001b[38;5;28;01mdef\u001b[39;00m \u001b[38;5;21m_rvs\u001b[39m(\u001b[38;5;28mself\u001b[39m, p, size\u001b[38;5;241m=\u001b[39m\u001b[38;5;28;01mNone\u001b[39;00m, random_state\u001b[38;5;241m=\u001b[39m\u001b[38;5;28;01mNone\u001b[39;00m):\n\u001b[1;32m--> 140\u001b[0m     \u001b[38;5;28;01mreturn\u001b[39;00m \u001b[43mbinom_gen\u001b[49m\u001b[38;5;241;43m.\u001b[39;49m\u001b[43m_rvs\u001b[49m\u001b[43m(\u001b[49m\u001b[38;5;28;43mself\u001b[39;49m\u001b[43m,\u001b[49m\u001b[43m \u001b[49m\u001b[38;5;241;43m1\u001b[39;49m\u001b[43m,\u001b[49m\u001b[43m \u001b[49m\u001b[43mp\u001b[49m\u001b[43m,\u001b[49m\u001b[43m \u001b[49m\u001b[43msize\u001b[49m\u001b[38;5;241;43m=\u001b[39;49m\u001b[43msize\u001b[49m\u001b[43m,\u001b[49m\u001b[43m \u001b[49m\u001b[43mrandom_state\u001b[49m\u001b[38;5;241;43m=\u001b[39;49m\u001b[43mrandom_state\u001b[49m\u001b[43m)\u001b[49m\n",
      "File \u001b[1;32mc:\\Users\\micha\\AppData\\Local\\Programs\\Python\\Python311\\Lib\\site-packages\\scipy\\stats\\_discrete_distns.py:61\u001b[0m, in \u001b[0;36mbinom_gen._rvs\u001b[1;34m(self, n, p, size, random_state)\u001b[0m\n\u001b[0;32m     60\u001b[0m \u001b[38;5;28;01mdef\u001b[39;00m \u001b[38;5;21m_rvs\u001b[39m(\u001b[38;5;28mself\u001b[39m, n, p, size\u001b[38;5;241m=\u001b[39m\u001b[38;5;28;01mNone\u001b[39;00m, random_state\u001b[38;5;241m=\u001b[39m\u001b[38;5;28;01mNone\u001b[39;00m):\n\u001b[1;32m---> 61\u001b[0m     \u001b[38;5;28;01mreturn\u001b[39;00m \u001b[43mrandom_state\u001b[49m\u001b[38;5;241;43m.\u001b[39;49m\u001b[43mbinomial\u001b[49m\u001b[43m(\u001b[49m\u001b[43mn\u001b[49m\u001b[43m,\u001b[49m\u001b[43m \u001b[49m\u001b[43mp\u001b[49m\u001b[43m,\u001b[49m\u001b[43m \u001b[49m\u001b[43msize\u001b[49m\u001b[43m)\u001b[49m\n",
      "\u001b[1;31mKeyboardInterrupt\u001b[0m: "
     ]
    }
   ],
   "source": [
    "alpha = 0.1\n",
    "gamma = 1\n",
    "\n",
    "epsilon = 0.1\n",
    "epsilon_scaling = 0.95\n",
    "\n",
    "num_episodes = 100\n",
    "\n",
    "num_planning_iters = 3\n",
    "\n",
    "dynaq_agent = DynaQ(alpha, gamma, epsilon, epsilon_scaling, num_episodes, num_planning_iters)\n",
    "\n",
    "# load existing action values if required\n",
    "if load_existing_action_values:\n",
    "    action_values = np.load(\"action_values\\\\\"+action_values_file)\n",
    "    dynaq_agent.action_values = action_values\n",
    "    print(\"Successfully loaded existing action values!\")\n",
    "    dynaq_agent.print_action_values()\n",
    "    \n",
    "# release the beast!\n",
    "dynaq_agent.learn()"
   ]
  },
  {
   "cell_type": "code",
   "execution_count": 12,
   "metadata": {},
   "outputs": [],
   "source": [
    "# save action values\n",
    "file_name = \"dynaq_1000_10\"\n",
    "np.save(\"action_values\\\\\"+file_name, dynaq_agent.action_values)"
   ]
  }
 ],
 "metadata": {
  "kernelspec": {
   "display_name": "Python 3",
   "language": "python",
   "name": "python3"
  },
  "language_info": {
   "codemirror_mode": {
    "name": "ipython",
    "version": 3
   },
   "file_extension": ".py",
   "mimetype": "text/x-python",
   "name": "python",
   "nbconvert_exporter": "python",
   "pygments_lexer": "ipython3",
   "version": "3.11.4"
  }
 },
 "nbformat": 4,
 "nbformat_minor": 2
}
